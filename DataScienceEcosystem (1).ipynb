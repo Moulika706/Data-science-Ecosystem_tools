{
 "cells": [
  {
   "cell_type": "markdown",
   "id": "75699dee-144c-4a65-bebc-f7f0ffa0dc17",
   "metadata": {},
   "source": [
    "# Data Science Tools and Ecosystem"
   ]
  },
  {
   "cell_type": "markdown",
   "id": "76372f16-6053-4d53-8e5c-6482e84b3938",
   "metadata": {},
   "source": [
    "In this notebook, Data Science Tools and Ecosystem are summarized."
   ]
  },
  {
   "cell_type": "markdown",
   "id": "a8f7d070-5ddc-4679-9824-1403539bdca3",
   "metadata": {},
   "source": [
    "Some of the popular languages that Data Scientists use are:\n",
    "1. Python\n",
    "2. R\n",
    "3. Scala\n",
    "4. Julia"
   ]
  },
  {
   "cell_type": "markdown",
   "id": "9c324649-98d4-485a-9da3-4a8a5202ce9d",
   "metadata": {},
   "source": [
    "Some of the commonly used libraries used by Data Scientists include:\n",
    "\n",
    "1. Python Libraries : Pandas, Numpy , Seaborn, Matplotlib, Scikit learn, keras, Tensorflow\n",
    "\n",
    "2. Scala Libraries : Vegas , BigDL\n",
    "   \n",
    "3. R libraries : ggplot2"
   ]
  },
  {
   "cell_type": "markdown",
   "id": "c828ddff-2592-4f32-b585-adde58ad8a28",
   "metadata": {},
   "source": [
    "| Data Science Tools          |\n",
    "|-----------------------------|\n",
    "| Jupyter Notebook            |\n",
    "| RStudio                     |\n",
    "| Apache Zeppelin             |\n"
   ]
  },
  {
   "cell_type": "markdown",
   "id": "dfa2ea99-d523-4eb9-89cc-5efdb0013a1b",
   "metadata": {},
   "source": [
    "Below are a few examples of evaluating arithmetic expressions in Python."
   ]
  },
  {
   "cell_type": "code",
   "execution_count": 19,
   "id": "686d57e4-10b3-4906-8e28-4595c52511ac",
   "metadata": {},
   "outputs": [
    {
     "name": "stdout",
     "output_type": "stream",
     "text": [
      "243\n"
     ]
    }
   ],
   "source": [
    "print(3**5)"
   ]
  },
  {
   "cell_type": "code",
   "execution_count": 21,
   "id": "f0a77636-ff1d-454e-82dc-07408b2140f6",
   "metadata": {},
   "outputs": [
    {
     "name": "stdout",
     "output_type": "stream",
     "text": [
      "1.6666666666666667\n"
     ]
    }
   ],
   "source": [
    "print(5/3)"
   ]
  },
  {
   "cell_type": "code",
   "execution_count": 23,
   "id": "ebc8f85d-c15f-4fda-b8e2-686410b0a5c6",
   "metadata": {},
   "outputs": [
    {
     "name": "stdout",
     "output_type": "stream",
     "text": [
      "1\n"
     ]
    }
   ],
   "source": [
    "print(5//3)"
   ]
  },
  {
   "cell_type": "code",
   "execution_count": 25,
   "id": "5ec1ee74-a793-43bd-b1a8-0ab9413e966b",
   "metadata": {},
   "outputs": [
    {
     "name": "stdout",
     "output_type": "stream",
     "text": [
      "47664\n"
     ]
    }
   ],
   "source": [
    "print(47657+7)"
   ]
  },
  {
   "cell_type": "code",
   "execution_count": 29,
   "id": "c385bcdc-31ff-4c65-92fe-a8bd44569c68",
   "metadata": {},
   "outputs": [
    {
     "name": "stdout",
     "output_type": "stream",
     "text": [
      "17\n"
     ]
    }
   ],
   "source": [
    "#This a simple arithmetic expression to mutiply then add integers\n",
    "\n",
    "print((3*4)+5)"
   ]
  },
  {
   "cell_type": "code",
   "execution_count": 33,
   "id": "be04ba3b-6b77-4106-9502-3167f19d799f",
   "metadata": {},
   "outputs": [
    {
     "name": "stdout",
     "output_type": "stream",
     "text": [
      "3\n"
     ]
    }
   ],
   "source": [
    "# This will convert 200 minutes to hours by diving by 60\n",
    "\n",
    "print(200//60)"
   ]
  },
  {
   "cell_type": "markdown",
   "id": "06ca13c5-bf5e-454e-bdff-5254a082abef",
   "metadata": {},
   "source": [
    "**Objectives:**\n",
    "- List popular languages for Data Science.\n",
    "- Discuss common libraries used in Data Science.\n",
    "- Demonstrate examples of evaluating arithmetic expressions in Python.\n",
    "- Create a table of Data Science tools.\n",
    "- Highlight development environment tools for Data Science.\n"
   ]
  },
  {
   "cell_type": "markdown",
   "id": "3ae1c1cc-ae76-48bd-81fe-83c5a5a9ff0e",
   "metadata": {},
   "source": [
    "# Author\n",
    "Moulika"
   ]
  },
  {
   "cell_type": "code",
   "execution_count": null,
   "id": "a8c51740-ff3e-49e8-a207-1fdd856f7c18",
   "metadata": {},
   "outputs": [],
   "source": []
  }
 ],
 "metadata": {
  "kernelspec": {
   "display_name": "Python 3 (ipykernel)",
   "language": "python",
   "name": "python3"
  },
  "language_info": {
   "codemirror_mode": {
    "name": "ipython",
    "version": 3
   },
   "file_extension": ".py",
   "mimetype": "text/x-python",
   "name": "python",
   "nbconvert_exporter": "python",
   "pygments_lexer": "ipython3",
   "version": "3.12.4"
  }
 },
 "nbformat": 4,
 "nbformat_minor": 5
}
